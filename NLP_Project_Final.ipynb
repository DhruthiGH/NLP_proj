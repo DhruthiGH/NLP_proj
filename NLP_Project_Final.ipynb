{
  "cells": [
    {
      "cell_type": "code",
      "execution_count": 2,
      "metadata": {
        "colab": {
          "base_uri": "https://localhost:8080/"
        },
        "id": "JD2fJQCRBGzN",
        "outputId": "90561f1f-5d63-415b-d5b2-e34170c999eb"
      },
      "outputs": [
        {
          "output_type": "stream",
          "name": "stdout",
          "text": [
            "Collecting translate\n",
            "  Downloading translate-3.6.1-py2.py3-none-any.whl (12 kB)\n",
            "Requirement already satisfied: click in /usr/local/lib/python3.10/dist-packages (from translate) (8.1.7)\n",
            "Requirement already satisfied: lxml in /usr/local/lib/python3.10/dist-packages (from translate) (4.9.4)\n",
            "Requirement already satisfied: requests in /usr/local/lib/python3.10/dist-packages (from translate) (2.31.0)\n",
            "Collecting libretranslatepy==2.1.1 (from translate)\n",
            "  Downloading libretranslatepy-2.1.1-py3-none-any.whl (3.2 kB)\n",
            "Requirement already satisfied: charset-normalizer<4,>=2 in /usr/local/lib/python3.10/dist-packages (from requests->translate) (3.3.2)\n",
            "Requirement already satisfied: idna<4,>=2.5 in /usr/local/lib/python3.10/dist-packages (from requests->translate) (3.7)\n",
            "Requirement already satisfied: urllib3<3,>=1.21.1 in /usr/local/lib/python3.10/dist-packages (from requests->translate) (2.0.7)\n",
            "Requirement already satisfied: certifi>=2017.4.17 in /usr/local/lib/python3.10/dist-packages (from requests->translate) (2024.2.2)\n",
            "Installing collected packages: libretranslatepy, translate\n",
            "Successfully installed libretranslatepy-2.1.1 translate-3.6.1\n"
          ]
        }
      ],
      "source": [
        "!pip install translate"
      ]
    },
    {
      "cell_type": "code",
      "execution_count": 3,
      "metadata": {
        "colab": {
          "base_uri": "https://localhost:8080/"
        },
        "id": "_b3MV5hZBPUr",
        "outputId": "00a3fc31-d527-4c03-e6f6-94d63c27b0b6"
      },
      "outputs": [
        {
          "output_type": "stream",
          "name": "stderr",
          "text": [
            "[nltk_data] Downloading package punkt to /root/nltk_data...\n",
            "[nltk_data]   Unzipping tokenizers/punkt.zip.\n"
          ]
        },
        {
          "output_type": "execute_result",
          "data": {
            "text/plain": [
              "True"
            ]
          },
          "metadata": {},
          "execution_count": 3
        }
      ],
      "source": [
        "import nltk\n",
        "nltk.download('punkt')"
      ]
    },
    {
      "cell_type": "markdown",
      "metadata": {
        "id": "4nD0nET1BhtA"
      },
      "source": [
        "# Importing Libraries"
      ]
    },
    {
      "cell_type": "code",
      "execution_count": 4,
      "metadata": {
        "id": "430tdZfbBS65"
      },
      "outputs": [],
      "source": [
        "#importing required libraries\n",
        "import pandas as pd\n",
        "import numpy as np\n",
        "from sklearn.feature_extraction.text import TfidfVectorizer\n",
        "from sklearn.model_selection import train_test_split\n",
        "from sklearn.svm import LinearSVC\n",
        "from sklearn.linear_model import LogisticRegression\n",
        "from sklearn.linear_model import SGDClassifier\n",
        "from sklearn.naive_bayes import MultinomialNB\n",
        "from sklearn.neighbors import KNeighborsClassifier\n",
        "from sklearn.metrics import classification_report\n",
        "from sklearn.ensemble import RandomForestClassifier\n",
        "from sklearn.metrics import confusion_matrix, accuracy_score\n",
        "from translate import Translator\n",
        "from sklearn.multiclass import OneVsRestClassifier\n",
        "from sklearn import svm, linear_model\n",
        "from sklearn.svm import SVC"
      ]
    },
    {
      "cell_type": "code",
      "execution_count": 5,
      "metadata": {
        "id": "Itq5h2U0BaB8"
      },
      "outputs": [],
      "source": [
        "# Reading the datset\n",
        "df = pd.read_excel('mixedDS.XLSX')\n"
      ]
    },
    {
      "cell_type": "markdown",
      "metadata": {
        "id": "p0iFmwlWBmwJ"
      },
      "source": [
        "# Data Cleaning"
      ]
    },
    {
      "cell_type": "code",
      "execution_count": 6,
      "metadata": {
        "id": "L7uHDQCQBf0U"
      },
      "outputs": [],
      "source": [
        "import codecs\n",
        "from nltk.tokenize import word_tokenize\n",
        "import string\n",
        "\n",
        "\n",
        "def clean(data):\n",
        "    stopwords = codecs.open(\"stopwords.txt\", \"r\", encoding='utf-8', errors='ignore').read().split('\\n')\n",
        "    stopword = []\n",
        "    for line in stopwords:\n",
        "        data1 = line.replace('\\r', \"\")\n",
        "        stopword.append(data1)\n",
        "\n",
        "    lexicon = []\n",
        "\n",
        "# tokenization\n",
        "    all_words = word_tokenize(data)\n",
        "\n",
        "# Data Cleaning\n",
        "    exclude = set(string.punctuation)\n",
        "    for i in all_words:\n",
        "        st = ''.join(ch for ch in i if ch not in exclude)\n",
        "        if (st != ''):\n",
        "            lexicon.append(st)\n",
        "# Removing Stop words\n",
        "    lexicons = []\n",
        "    for word in lexicon:\n",
        "        if not word in stopword:\n",
        "            lexicons.append(word)\n",
        "    lexi = ' '.join([str(elem) for elem in lexicons])\n",
        "    return lexi"
      ]
    },
    {
      "cell_type": "code",
      "execution_count": 7,
      "metadata": {
        "id": "1FcZSskpB-xQ"
      },
      "outputs": [],
      "source": [
        "# Complex suffixes\n",
        "complex_suffixes = {\n",
        "\n",
        "\n",
        "#PAST TENSE simple past tense 1st person singular\n",
        "1 : [\"ಳಿದ್ದೆ\",\"ಳಲಿಲ್ಲ\",\"ಳಿದ್ದೆನ\",\"ಳಿದೆನ\"], #---> append ಳು\n",
        "\n",
        "#simple past tense 1st person plural\n",
        "2 : [\"ದಿದೆವು\",\"ದಲಿಲ್ಲ\",\"ದಿದೆವ\"],# ---> append ದು\n",
        "\n",
        "#simple past tense 2nd person\n",
        "3 : [\"ಯಲಿಲ್ಲ\"],\n",
        "\n",
        "#simple past tense 3rd person plural\n",
        "4 : [\"ಯಾಗಿದ್ದರು\",\"ವಾಗಿದ್ದರು\",\"ತಾಗಿದ್ದರು\",\"ದಾಗಿದ್ದರು\",\"ದಿದ್ದರು\",\"ಲಿಲ್ಲ\",\"ದ್ದರಾ\"],\n",
        "\n",
        "#simple past tense 3rd person singular\n",
        "5 : [\"ಯಲಿಲ್ಲ\",\"ಲಿಲ್ಲ\",\"ದನ\",\"ದನಾ\"],\n",
        "\n",
        "\n",
        "#past perfect tense 1st person singular\n",
        "6 : [\"ದಿದ್ದೆ\",\"ಡಿದ್ದೆ\",\"ರಲಿಲ್ಲ\",\"ದ್ದೆನ\",\"ದ್ದೆನಾ\"],\n",
        "\n",
        "#past perfect tennse 1st person plural\n",
        "7 : [\"ದಿದ್ವಿ\",\"ರಲಿಲ್ಲ\",\"ದಿದ್ವಾ\"],\n",
        "\n",
        "#past perfect, 2nd\n",
        "8 : [\"ದಿದ್ದೆ\",\"ಯುತ್ತಿದ್ದೆ\",\"ತ್ತಿದ್ದವರು\",\"ತ್ತಿದ್ದೆ\",\"ತಿದ್ದೆ\",\"ಯುತ್ತದೆ\",\"ತ್ತದೆ\",\"ಯುತ್ತಿರಲಿಲ್ಲ\",\"ತ್ತಿರಲಿಲ್ಲ\",\"ತಿರಲಿಲ್ಲ\",\"ದಿರಲಿಲ್ಲ\",\"ದ್ದಿದ್ದಾ\",\"ಯುತ್ತಿದ್ದಾ\",\"ತ್ತಿದ್ದಾ\"],\n",
        "\n",
        "#past perfect 3rd plural\n",
        "9 : [\"ದಿದ್ದರು\"],\n",
        "\n",
        "#past perfect 3rd singular\n",
        "10 : [\"ದಿದ್ದ\",\"ದಿದ್ದನು\",\"ದಿದ್ದಳು\"],\n",
        "\n",
        "#PAST CONTINUOUS simple tense 1st singular\n",
        "11 : [\"ತ್ತಿದ್ದೆನೆ\"],\n",
        "\n",
        "#past continuous 1st plural\n",
        "12 : [\"ಯುತ್ತಿದ್ದೆವು\",\"ತ್ತಿದ್ದೆವು\",\"ಯುತ್ತಿದ್ದೆವ\",\"ತ್ತಿದ್ದೆವ\"],\n",
        "\n",
        "#past continuous 2nd\n",
        "13 : [\"ತ್ತಿದ್ದೆ\",\"ತಿರಲಿಲ್ಲ\",\"ತ್ತಿದ್ದ\",\"ತ್ತಿದ್ದಾ\"],\n",
        "\n",
        "#past continuous 3rd plural\n",
        "14 : [\"ತ್ತಿದ್ದರು\",\"ತ್ತಿರಲಿಲ್ಲ\",\"ತ್ತಿದ್ದರ\",\"ತ್ತಿದ್ದಾರಾ\"],\n",
        "\n",
        "#past continuous 3rd singular\n",
        "15 : [\"ಯುತ್ತಿದ್ದನ\",\"ಯುತ್ತಿದ್ದನಾ\",\"ಯುತ್ತಿದ್ದಳು\",\"ಯುತ್ತಿದ್ದನು\",\"ಯುತ್ತಿದ್ದಳ\",\"ಯುತ್ತಿದ್ದನ\",\"ಯುತ್ತಿದ್ದಳೆ\",\"ಯುತ್ತಿದ್ದನೆ\",\"ತ್ತಿದ್ದನ\",\"ತ್ತಿದ್ದನಾ\",\"ತ್ತಿದ್ದಳು\",\"ತ್ತಿದ್ದನು\",\"ತ್ತಿದ್ದಳ\",\"ತ್ತಿದ್ದನ\",\"ತ್ತಿದ್ದಳೆ\",\"ತ್ತಿದ್ದನೆ\"],\n",
        "\n",
        "#PAST PERFECT continuous 1st singular\n",
        "16 : [\"ತ್ತಿದ್ದೆ\",\"ತ್ತಿರಲಿಲ್ಲ\",\"ತ್ತಿದ್ದೆನ\",\"ತ್ತಿದ್ದೆನಾ\"],\n",
        "\n",
        "#past perfect continuous 1st plural\n",
        "17 : [\"ಯುತ್ತಿದ್ದೆವೆ\",\"ತ್ತಿದ್ದೆವೆ\",\"ಯುತ್ತಿದ್ದೆವು\",\"ತ್ತಿದ್ದೆವು\"],\n",
        "\n",
        "#past p continous 2nd\n",
        "18 : [\"ತ್ತಿದ್ದೆ\",\"ತ್ತಿದ್ದೆವು\",\"ತ್ತಿರಲಿಲ್ಲ\",\"ತ್ತಿದ್ದಾ\"], #----- not needed\n",
        "\n",
        "#past p continuous 3rd plural\n",
        "19 : [\"ತ್ತಿದ್ದರು\",\"ತ್ತಿದ್ದರು\"],# -------- not needed\n",
        "\n",
        "#past p continuous 3rd singular\n",
        "20 : [\"ತ್ತಿಲ್ಲ\",\"ತ್ತಿದ್ದಳ\",\"ತ್ತಿದ್ದಳು\",\"ತ್ತಿದ್ದನ\",\"ತ್ತಿದ್ದನು\",\"ತ್ತಿದ್ದಾರೆ\"],\n",
        "\n",
        "#PRESENT TENSE\n",
        "#simple 1st singular\n",
        "21 : [\"ರುತ್ತೆನೆ\",\"ತ್ತೆನೆ\",\"ದಿಲ್ಲ\",\"ಯಲ್ವಾ\"],\n",
        "\n",
        "#simple 1st plural\n",
        "22 : [\"ರುತ್ತೆವೆ\",\"ರುತ್ತೇವೆ\",\"ರುವುದಿಲ್ಲ\",\"ರುತ್ತೇವ\",\"ರುತ್ತೆವ\",\"ತ್ತೆವೆ\",\"ತ್ತೇವೆ\",\"ವುದಿಲ್ಲ\",\"ತ್ತೇವ\",\"ತ್ತೆವ\"],\n",
        "\n",
        "#simple 2nd\n",
        "23 : [\"ತ್ತೀಯ\",\"ವುದಿಲ್ಲ\",\"ತ್ತಿಯ\"],\n",
        "\n",
        "#simple 3rd plural\n",
        "24 : [\"ತ್ತಾರೆ\",\"ತ್ತಾರ\"],\n",
        "\n",
        "#simple 3rd singular\n",
        "25 : [\"ತ್ತಾನೆ\",\"ತ್ತಾಳೆ\",\"ವುದಿಲ್ಲ\"],\n",
        "\n",
        "#Present perfect 1st singular\n",
        "26 : [\"ದ್ದಿನಿ\",\"ದ್ದೆನೆ\",\"ದಿಲ್ಲ\",\"ತ್ತಿದ್ದೆ\",\"ಲ್ಲವ\",\"ದೆನ\"],\n",
        "\n",
        "#present perfect 1st plural\n",
        "27 : [\"ದ್ದೆವೆ\",\"ದ್ದೆವ\"],\n",
        "\n",
        "#present perfect 2nd\n",
        "28 : [\"ಡಿದ್ದೀಯ\"],\n",
        "\n",
        "#present perfect 3rd plural\n",
        "29 : [\"ತ್ತಿದ್ದಾರ\",\"ತ್ತಿದ್ದಾರೆ\"],\n",
        "\n",
        "#present perfect 3rd singular\n",
        "30 : [\"ಯಾಗಿದೆ\",\"ಯಾಗಿಲ್ಲ\"],\n",
        "\n",
        "#present continuous 1st singluar\n",
        "31 : [\"ತ್ತಿದ್ದೆನೆ\",\"ತ್ತೆನೆ\",\"ತ್ತೇನೆ\",\"ತ್ತಿದ್ದೇನೆ\",\"ತ್ತಿಲ್ಲ\",\"ತ್ತಿದ್ದೆನ\"],\n",
        "\n",
        "#present cntinouus 1st plural\n",
        "32 : [\"ತ್ತಿದ್ದೇವೆ\",\"ತ್ತೇವೆ\",\"ತ್ತಿಲ್ಲ\",\"ತ್ತಿದ್ದೇವೆ\",\"ತ್ತಿದ್ದೇವ\"],\n",
        "\n",
        "#present continous 2nd\n",
        "33 : [\"ಯುತ್ತಿದ್ದೀಯ\",\"ಯುತ್ತೀಯ\",\"ಯುತ್ತಿರುವೆ\",\"ಯುತ್ತಿಲ್ಲ\",\"ಯುವುದಿಲ್ಲ\",\"ತ್ತಿದಿಯ\"],\n",
        "\n",
        "#present ocntinuous 3rd plural\n",
        "34 : [\"ತಿದರೆ\",\"ತ್ತಿದ್ದಾರೆ\",\"ತ್ತಿಲ್ಲ\",\"ತ್ತಿದ್ದಾರ\",\"ತಿರುವರ\"],\n",
        "\n",
        "#present continuous 3rd singular\n",
        "35 : [\"ತ್ತಿದ್ದಾನೆ\",\"ತ್ತಿದ್ದಾಳೆ\",\"ತ್ತಾನೆ\",\"ತ್ತಾಳೆ\",\"ತ್ತಿದ್ದಾನ\",\"ತ್ತಿದ್ದಾಳ\",\"ತ್ತಿಲ್ಲ\"],\n",
        "\n",
        "#PRESENT PERFECT continuous tense 1st singular\n",
        "36 : [\"ತ್ತಿದ್ದೀನಿ\",\"ತ್ತಿರುವೆ\",\"ತ್ತಿಲ್ಲ\",\"ತ್ತಿದ್ದೀನಿ\",\"ತ್ತಿಲ್ಲವೆ\",\"ತ್ತಿದ್ದೇನೆ\"],\n",
        "\n",
        "#present perfect continuous tense 1st plural\n",
        "37 : [\"ತ್ತಿದ್ದೇವೆ\",\"ತ್ತಿರುವ\",\"ತ್ತಿರುವೆವು\",\"ತ್ತಿರುವೆವ\",\"ತ್ತಿದ್ದೇವ\",\"ತ್ತಿದೇವ\",\"ತ್ತಿಲ್ಲವ\",\"ತ್ತಿಲ್ಲವಾ\"],\n",
        "\n",
        "#present perfect continuous 2nd\n",
        "38 : [\"ತ್ತಿದೀಯ\",\"ತ್ತಿಲ್ಲ\",\"ತ್ತಿರುವೆಯ\",\"ತ್ತಿದ್ದೆಯ\",\"ತ್ತಿಲ್ಲವ\"],\n",
        "\n",
        "#present perfect continuous 3rd plural\n",
        "39 : [\"ದಲ್ಲಿದೆ\",\"ಯಲ್ಲಿದೆ\",\"ರಲ್ಲಿದೆ\"],\n",
        "\n",
        "#present perfect continuous 3rd singular\n",
        "40 : [\"ತ್ತಿದ್ದಾನೆ\",\"ತ್ತಿದ್ದಾಳೆ\",\"ತ್ತಿದ್ದಾಳ\",\"ತ್ತಿದ್ದಾನೆ\"],\n",
        "\n",
        "41 : [\"ಯಾದರೆ\",\"ಗಾದರೆ\",\"ವುದಾದರೆ\",\"ದಾದರೆ\"],\n",
        "\n",
        "42 : [\"ಯಾಗಿಯೇ\",\"ಗಾಗಿಯೇ\",\"ದಾಗಿಯೇ\",\"ವಾಗಿಯೇ\"],\n",
        "\n",
        "43 : [\"ವಾದರು\",\"ಗಾದರು\",\"ತಾದರು\",\"ದಾದರು\",\"ಯಾದರು\",\"ರಾದರು\",\"ಲಾದರು\",\"ಳಾದರು\",\"ವಾದರೂ\",\"ಗಾದರೂ\",\"ತಾದರೂ\",\"ದಾದರೂ\",\"ಯಾದರೂ\",\"ರಾದರೂ\",\"ಲಾದರರೂ\",\"ಳಾದರೂ\"],\n",
        "\n",
        "44 : [\"ತ್ತಿದ್ದರಂತೆ\",\"ದೊಂದಿಗೆ\",\"ಯೊಂದಿಗೆ\",\"ರೊಂದಿಗೆ\"],\n",
        "\n",
        "45 : [\"ಗಿದ್ದನು\",\"ಗಿದ್ದಳು\",\"ಗಿದ್ದರು\",\"ಗಿದ್ದರೂ\",\"ತಾದ್ದನು\",\"ತಾದ್ದಳು\",\"ತಾದ್ದರು\",\"ತಾದ್ದರೂ\",\"ದಾದ್ದನು\",\"ದಾದ್ದಳು\",\"ದಾದ್ದರು\",\"ದಾದ್ದರೂ\"],\n",
        "\n",
        "46 : [\"ಯೊಂದೆ\",\"ವೊಂದೆ\",\"ರೊಂದೆ\",\"ವೊಂದ\",\"ಯೊಂದ\",\"ರೊಂದ\",\"ವುದೇ\"],\n",
        "\n",
        "47 : [\"ಯುವವರ\",\"ರುವವರ\",\"ಸುವವರ\"],\n",
        "\n",
        "48 : [\"ದಲ್ಲೇ\",\"ನಲ್ಲೇ\",\"ನಲ್ಲಿ\",\"ವಲ್ಲಿ\",\"ದಲ್ಲಿ\",\"ದಲ್ಲೂ\",\"ಯಲ್ಲಿ\",\"ರಲ್ಲಿ\",\"ಗಳಲ್ಲಿ\",\"ಳಲ್ಲಿ\",\"ಯಲ್ಲಿನ\"],\n",
        "\n",
        "49 : [\"ವವರು\",\"ಯವರು\",\"ನವರು\",\"ರವರು\",\"ದವರು\",\"ವವ\",\"ಯವ\",\"ನವ\",\"ರವ\",\"ದವ\"],\n",
        "\n",
        "50 : [\"ಗಾಗಿ\",\"ದಾಗಿ\",\"ವಾಗಿ\",\"ರಾಗಿ\",\"ಯಾಗಿ\",\"ತಾಗಿ\",\"ಕ್ಕಾಗಿ\",\"ವಾಗಿದ್ದು\",\"ವಾಗಿದ್ದ\",\"ಗಾಗಿದ್ದು\",\"ಗಾಗಿದ್ದ\",\"ರಾಗಿದ್ದು\",\"ರಾಗಿದ್ದ\",\"ದಾಗಿದ್ದು\",\"ದಾಗಿದ್ದ\",\"ತಾಗಿದ್ದು\",\"ತಾಗಿದ್ದ\"],\n",
        "\n",
        "51 : [\"ರನ್ನ\",\"ನನ್ನ\",\"ಯನ್ನ\"],\n",
        "\n",
        "52 : [\"ರನ್ನು\",\"ವನ್ನು\",\"ಯನ್ನು\",\"ಗಳನ್ನೇ\",\"ಗಳನ್ನು\",\"ಳನ್ನು\",\"ದನ್ನು\"] ,\n",
        "\n",
        "53 : [\"ವಿರುವ\",\"ರುವ\",\"ದ್ದರೆ\",\"ದ್ದಾರೆ\"],\n",
        "\n",
        "54 : [\"ತ್ತಾರಂತೆ\",\"ತ್ತಾಳಂತೆ\",\"ತ್ತಾನಂತೆ\",\"ಗಂತೆ\",\"ದ್ದಂತೆ\",\"ದಂತೆ\",\"ನಂತೆ\",\"ರಂತೆ\",\"ಯಂತೆ\",\"ಗಳಂತೆ\",\"ಳಂತೆ\",\"ವಂತೆ\"],\n",
        "\n",
        "55 : [\"ಗಳೆಂದು\",\"ಗಂ\",\"ದ್ದಂ\",\"ದಂ\",\"ಯಂ\",\"ರಂ\",\"ವಂ\",\"ಗಿಂದ\",\"ದಿಂದ\",\"ಯಿಂದ\",\"ರಿಂದ\",\"ನಿಂದ\"],\n",
        "\n",
        "56 : [\"ನಿಗೆ\",\"ರಿಗೆ\",\"ಯಿಗೆ\",\"ಕೆಗೆ\"],\n",
        "\n",
        "57: [\"ದ್ದೇನೆ\",\"ದ್ದಾನೆ\",\"ದ್ದಾಳೆ\",\"ದ್ದಾರೆ\",\"ದಾಗ\"],\n",
        "\n",
        "58 : [\"ವಿದೆ\" ,\"ದಿದೆ\",\"ತಿದೆ\",\"ಗಿದೆ\"],\n",
        "\n",
        "59 : [\"ತ್ತಿರು\",\"ವೆಂದು\"],\n",
        "\n",
        "60 : [\"ನನ್ನೂ\",\"ಳನ್ನೂ\",\"ರನ್ನೂ\"],\n",
        "\n",
        "61 : [\"ಯಾಯಿತು\", \"ಗಾಯಿತು\",\"ದಾಯಿತು\"],\n",
        "\n",
        "62 : [\"ದ್ದನು\",\"ದ್ದಳು\",\"ಯಿದ್ದರು\",\"ದ್ದರು\",\"ದ್ದರೂ\",\"ಗಳೇ\",\"ಗಳು\",\"ಗಳ\",\"ಗಳಿ\",\"ದಳು\",\"ದಳ\",\"ವೆನು\",\"ವನು\",\"ವೆವು\",\"ವಳು\",\"ವಳ\",\"ವುದು\",\"ಲಾಗು\",\"ಗಳಾದ\",\"ಗಳಿಗೆ\"],\n",
        "\n",
        "63 : [\"ವುದಕ್ಕೆ\",\"ಕ್ಕೆ\",\"ಗ್ಗಿ\",\"ದ್ದಿ\",\"ಲ್ಲಿ\",\"ನ್ನು\",\"ತ್ತು\"],\n",
        "\n",
        "64 : [\"ವಾಯಿತು\",\"ಗಾಯಿತು\",\"ದಾಯಿತು\",\"ತಾಯಿತು\",\"ಲಾಯಿತು\",\"ನಾಯಿತು\"],\n",
        "\n",
        "65 : [\"ವಿದ್ದು\",\"ವೆಂದಾಗ\"],\n",
        "\n",
        "66 : [\"ವನ್ನೇ\",\"ವೇಕೆ\"],\n",
        "\n",
        "67 : [\"ರಾದ\",\"ವಾದ\",\"ಗಾದ\",\"ಯಾದ\",\"ರಾಗುವ\"],\n",
        "\n",
        "68 : [\"ವಾದುದು\", \"ರಾದುದು\",\"ಗಾದುದು\",\"ಯಾದುದು\",\"ದಾದುದು\"],\n",
        "\n",
        "69 : [\"ಯಾರು\",\"ದಾರು\",\"ಗಾರು\",\"ರಾರು\"],\n",
        "\n",
        "70 : [\"ಗಳಿಸಿ\",\"ಗಳಿಸು\",\"ಗಳಿವೆ\",\"ಗಳಿವ\",\"ಗಳಿವು\"],\n",
        "\n",
        "71 :  [\"ಯು\",\"ದ\",\"ವಿಕೆ\",\"ದೇ\",\"ರು\",\"ಳ\",\"ಳೆ\",\"ಲಿದೆ\",\"ದೆ\",\"ರೆ\",\"ಗೆ\",\"ವೆ\",\"ತೆ\",\"ಗೂ\"],\n",
        "\n",
        "72 :  [\"ರದ\",\"ಮದ\",\"ನದ\"],\n",
        "\n",
        "73 :  [\"ಡಲು\",\"ಲಾಗುತ್ತದೆ\",\"ಸಲು\",\"ಸಿದ್ದಾಳೆ\",\"ಸಿದಾಗ\",\"ಸಲು\",\"ಸಿದರು\",\"ಸಿದನು\",\"ಸಿದಳು\",\"ಸಿದ್ದೇ\",\"ಕಿದೀನಿ\"]\n",
        "\n",
        "}\n",
        "\n",
        "\n",
        "add_1 = [\"ು\"]\n"
      ]
    },
    {
      "cell_type": "code",
      "execution_count": 8,
      "metadata": {
        "id": "PbDbNWH2CJvQ"
      },
      "outputs": [],
      "source": [
        "# Stemming\n",
        "def kannada_root(word, inde):\n",
        "    global flag\n",
        "\n",
        "    # checking for suffixes which needs to be retained\n",
        "    for L in complex_suffixes[72]:\n",
        "        if len(word) > len(L) + 1:\n",
        "            if word.endswith(L):\n",
        "                inde.append(72)\n",
        "\n",
        "                return (word[:-(len(L) - 1)], inde)\n",
        "\n",
        "    # checking for suffixes which needs to retained and modified\n",
        "    for L in complex_suffixes[73]:\n",
        "        if len(word) > len(L) + 1:\n",
        "            if word.endswith(L):\n",
        "                flag = 1\n",
        "                word = word[:-(len(L) - 1)]\n",
        "                word = word + add_1[0]\n",
        "                inde.append(73)\n",
        "                return (kannada_root(word, inde))\n",
        "\n",
        "                # checking for suffixes which must be removed\n",
        "    L = 1\n",
        "    while L <= 70:\n",
        "        for suffix in complex_suffixes[L]:\n",
        "            if len(word) > len(suffix) + 1:\n",
        "                if word.endswith(suffix):\n",
        "                    flag = 1\n",
        "                    inde.append(L)\n",
        "\n",
        "                    return (kannada_root(word[:-(len(suffix))], inde))\n",
        "        L = L + 1\n",
        "\n",
        "    # at last checking for remaining suffixes\n",
        "    if flag == 0:\n",
        "        for L in complex_suffixes[71]:\n",
        "            if len(word) - len(L) > len(L) + 1:\n",
        "                if word.endswith(L):\n",
        "                    inde.append(71)\n",
        "                    return (word[:-(len(L))], inde)\n",
        "\n",
        "    return word, inde\n",
        "\n",
        "\n",
        "flag = 0\n",
        "x = []\n",
        "def get_vectors(sentences, model):\n",
        "    vectors = []\n",
        "    for sentence in sentences:\n",
        "        sentence_vector = []\n",
        "        for word in sentence:\n",
        "            try:\n",
        "                vector = model.wv[word]\n",
        "                sentence_vector.append(vector)\n",
        "            except KeyError:\n",
        "                # ignore words not in vocabulary\n",
        "                pass\n",
        "        # average the word vectors in a sentence to get a sentence vector\n",
        "        if sentence_vector:\n",
        "            sentence_vector = np.mean(sentence_vector, axis=0)\n",
        "        else:\n",
        "            sentence_vector = np.zeros(model.vector_size)\n",
        "        vectors.append(sentence_vector)\n",
        "    return np.array(vectors)\n",
        "\n",
        "def translate_english_to_kannada(sentence):\n",
        "    translator = Translator(to_lang=\"kn\")\n",
        "    translation = translator.translate(sentence)\n",
        "    return translation\n",
        "\n",
        "def stemming(data):\n",
        "    x = data.split()\n",
        "    num_lines2 = len(x)\n",
        "\n",
        "    y = []\n",
        "    for j in range(num_lines2):\n",
        "        flag = 0\n",
        "        inde = []\n",
        "        root = x[j]\n",
        "        root, inde = kannada_root(x[j], inde)\n",
        "        y.append(root)\n",
        "\n",
        "    stemmed = ' '.join([str(elem) for elem in y])\n",
        "\n",
        "    return stemmed\n",
        "df['Sentences'] = df['Sentences'].apply(lambda x: clean(x))\n",
        "df['Sentences'] = df['Sentences'].apply(lambda x: stemming(x))"
      ]
    },
    {
      "cell_type": "code",
      "execution_count": 9,
      "metadata": {
        "colab": {
          "base_uri": "https://localhost:8080/"
        },
        "id": "oitGhOvICluv",
        "outputId": "060d5fe7-b8dc-4ddb-afe3-8be706dc6abd"
      },
      "outputs": [
        {
          "output_type": "stream",
          "name": "stdout",
          "text": [
            "  (0, 516)\t0.29025960938591916\n",
            "  (0, 379)\t0.2932227958862754\n",
            "  (0, 812)\t0.30120753968816044\n",
            "  (0, 378)\t0.3644192191829544\n",
            "  (0, 862)\t0.38530148237224165\n",
            "  (0, 514)\t0.35860907997693164\n",
            "  (0, 373)\t0.34662627282858\n",
            "  (0, 5)\t0.38804097689503625\n",
            "  (0, 647)\t0.2417832180529177\n",
            "  (1, 608)\t0.4065300453024091\n",
            "  (1, 14)\t0.23705653353183764\n",
            "  (1, 582)\t0.4508233741940037\n",
            "  (1, 860)\t0.4508233741940037\n",
            "  (1, 697)\t0.44782244340634764\n",
            "  (1, 290)\t0.4141366343593925\n",
            "  (2, 390)\t0.22939324070163325\n",
            "  (2, 301)\t0.5102806678739057\n",
            "  (2, 572)\t0.3408509266974724\n",
            "  (2, 702)\t0.3010531713416785\n",
            "  (2, 494)\t0.2867910556499209\n",
            "  (2, 48)\t0.3468097455172768\n",
            "  (2, 730)\t0.30444703798146533\n",
            "  (2, 736)\t0.3795628981968445\n",
            "  (2, 14)\t0.20223232456589402\n",
            "  (3, 130)\t0.5285072534290048\n",
            "  :\t:\n",
            "  (1997, 899)\t0.207305891590055\n",
            "  (1997, 534)\t0.4319486255610508\n",
            "  (1998, 31)\t1.0\n",
            "  (1999, 410)\t0.3680876963897061\n",
            "  (1999, 31)\t0.4268659753933962\n",
            "  (1999, 370)\t0.47379968339648465\n",
            "  (1999, 266)\t0.43821763059909563\n",
            "  (1999, 58)\t0.515534727310847\n",
            "  (2000, 177)\t0.6498223778922323\n",
            "  (2000, 31)\t0.6602432337921048\n",
            "  (2000, 390)\t0.3765763527124731\n",
            "  (2001, 31)\t0.5083110370475752\n",
            "  (2001, 482)\t0.4289964611453945\n",
            "  (2001, 893)\t0.38048821955928663\n",
            "  (2001, 214)\t0.4307868993914818\n",
            "  (2001, 323)\t0.4766899286009973\n",
            "  (2002, 189)\t0.665669341600614\n",
            "  (2002, 31)\t0.5997293851166262\n",
            "  (2002, 446)\t0.44408219090686174\n",
            "  (2003, 658)\t0.8204321265721947\n",
            "  (2003, 31)\t0.5717439336698087\n",
            "  (2004, 31)\t0.5549795557856425\n",
            "  (2004, 562)\t0.5505045936942918\n",
            "  (2004, 898)\t0.5421105612074248\n",
            "  (2004, 802)\t0.30831562465892737\n",
            "(2005, 951)\n"
          ]
        }
      ],
      "source": [
        "# Feature Extraction\n",
        "tfidf = TfidfVectorizer()\n",
        "X = df['Sentences']\n",
        "y = df['sentiment']\n",
        "\n",
        "X = tfidf.fit_transform(X)\n",
        "print(X)\n",
        "print(X.shape)"
      ]
    },
    {
      "cell_type": "markdown",
      "metadata": {
        "id": "rqzcRVPrDGRk"
      },
      "source": [
        "# Training the dataset"
      ]
    },
    {
      "cell_type": "code",
      "execution_count": 10,
      "metadata": {
        "id": "n17lyCxkDBf-",
        "colab": {
          "base_uri": "https://localhost:8080/"
        },
        "outputId": "edc9c88c-6889-41f0-ce04-590574636704"
      },
      "outputs": [
        {
          "output_type": "stream",
          "name": "stdout",
          "text": [
            "(1403, 951)\n",
            "(602, 951)\n",
            "(1403,)\n",
            "(602,)\n"
          ]
        }
      ],
      "source": [
        "#Splitting the Data into Training and Testing\n",
        "\n",
        "X_train, X_test, y_train, y_test = train_test_split(X, y, test_size=0.3, random_state=4)\n",
        "print(X_train.shape)\n",
        "print(X_test.shape)\n",
        "print(y_train.shape)\n",
        "print(y_test.shape)"
      ]
    },
    {
      "cell_type": "code",
      "execution_count": 11,
      "metadata": {
        "id": "Lwt030uTDNh0"
      },
      "outputs": [],
      "source": [
        "#Training of ML Models\n",
        "clf0 = OneVsRestClassifier(svm.SVC(kernel='rbf',gamma=0.5))\n",
        "clf1 = LinearSVC()\n",
        "clf2 = LogisticRegression()\n",
        "clf3 = SGDClassifier()\n",
        "clf4 = SVC()\n",
        "clf5 = KNeighborsClassifier(n_neighbors=175)\n",
        "clf6 = MultinomialNB()\n",
        "clf7 = RandomForestClassifier()\n"
      ]
    },
    {
      "cell_type": "code",
      "execution_count": 12,
      "metadata": {
        "colab": {
          "base_uri": "https://localhost:8080/",
          "height": 75
        },
        "id": "iMigryLXDaMs",
        "outputId": "1ef06140-88ca-4125-f6d1-5eccd7c0dbb1"
      },
      "outputs": [
        {
          "output_type": "execute_result",
          "data": {
            "text/plain": [
              "RandomForestClassifier()"
            ],
            "text/html": [
              "<style>#sk-container-id-1 {color: black;background-color: white;}#sk-container-id-1 pre{padding: 0;}#sk-container-id-1 div.sk-toggleable {background-color: white;}#sk-container-id-1 label.sk-toggleable__label {cursor: pointer;display: block;width: 100%;margin-bottom: 0;padding: 0.3em;box-sizing: border-box;text-align: center;}#sk-container-id-1 label.sk-toggleable__label-arrow:before {content: \"▸\";float: left;margin-right: 0.25em;color: #696969;}#sk-container-id-1 label.sk-toggleable__label-arrow:hover:before {color: black;}#sk-container-id-1 div.sk-estimator:hover label.sk-toggleable__label-arrow:before {color: black;}#sk-container-id-1 div.sk-toggleable__content {max-height: 0;max-width: 0;overflow: hidden;text-align: left;background-color: #f0f8ff;}#sk-container-id-1 div.sk-toggleable__content pre {margin: 0.2em;color: black;border-radius: 0.25em;background-color: #f0f8ff;}#sk-container-id-1 input.sk-toggleable__control:checked~div.sk-toggleable__content {max-height: 200px;max-width: 100%;overflow: auto;}#sk-container-id-1 input.sk-toggleable__control:checked~label.sk-toggleable__label-arrow:before {content: \"▾\";}#sk-container-id-1 div.sk-estimator input.sk-toggleable__control:checked~label.sk-toggleable__label {background-color: #d4ebff;}#sk-container-id-1 div.sk-label input.sk-toggleable__control:checked~label.sk-toggleable__label {background-color: #d4ebff;}#sk-container-id-1 input.sk-hidden--visually {border: 0;clip: rect(1px 1px 1px 1px);clip: rect(1px, 1px, 1px, 1px);height: 1px;margin: -1px;overflow: hidden;padding: 0;position: absolute;width: 1px;}#sk-container-id-1 div.sk-estimator {font-family: monospace;background-color: #f0f8ff;border: 1px dotted black;border-radius: 0.25em;box-sizing: border-box;margin-bottom: 0.5em;}#sk-container-id-1 div.sk-estimator:hover {background-color: #d4ebff;}#sk-container-id-1 div.sk-parallel-item::after {content: \"\";width: 100%;border-bottom: 1px solid gray;flex-grow: 1;}#sk-container-id-1 div.sk-label:hover label.sk-toggleable__label {background-color: #d4ebff;}#sk-container-id-1 div.sk-serial::before {content: \"\";position: absolute;border-left: 1px solid gray;box-sizing: border-box;top: 0;bottom: 0;left: 50%;z-index: 0;}#sk-container-id-1 div.sk-serial {display: flex;flex-direction: column;align-items: center;background-color: white;padding-right: 0.2em;padding-left: 0.2em;position: relative;}#sk-container-id-1 div.sk-item {position: relative;z-index: 1;}#sk-container-id-1 div.sk-parallel {display: flex;align-items: stretch;justify-content: center;background-color: white;position: relative;}#sk-container-id-1 div.sk-item::before, #sk-container-id-1 div.sk-parallel-item::before {content: \"\";position: absolute;border-left: 1px solid gray;box-sizing: border-box;top: 0;bottom: 0;left: 50%;z-index: -1;}#sk-container-id-1 div.sk-parallel-item {display: flex;flex-direction: column;z-index: 1;position: relative;background-color: white;}#sk-container-id-1 div.sk-parallel-item:first-child::after {align-self: flex-end;width: 50%;}#sk-container-id-1 div.sk-parallel-item:last-child::after {align-self: flex-start;width: 50%;}#sk-container-id-1 div.sk-parallel-item:only-child::after {width: 0;}#sk-container-id-1 div.sk-dashed-wrapped {border: 1px dashed gray;margin: 0 0.4em 0.5em 0.4em;box-sizing: border-box;padding-bottom: 0.4em;background-color: white;}#sk-container-id-1 div.sk-label label {font-family: monospace;font-weight: bold;display: inline-block;line-height: 1.2em;}#sk-container-id-1 div.sk-label-container {text-align: center;}#sk-container-id-1 div.sk-container {/* jupyter's `normalize.less` sets `[hidden] { display: none; }` but bootstrap.min.css set `[hidden] { display: none !important; }` so we also need the `!important` here to be able to override the default hidden behavior on the sphinx rendered scikit-learn.org. See: https://github.com/scikit-learn/scikit-learn/issues/21755 */display: inline-block !important;position: relative;}#sk-container-id-1 div.sk-text-repr-fallback {display: none;}</style><div id=\"sk-container-id-1\" class=\"sk-top-container\"><div class=\"sk-text-repr-fallback\"><pre>RandomForestClassifier()</pre><b>In a Jupyter environment, please rerun this cell to show the HTML representation or trust the notebook. <br />On GitHub, the HTML representation is unable to render, please try loading this page with nbviewer.org.</b></div><div class=\"sk-container\" hidden><div class=\"sk-item\"><div class=\"sk-estimator sk-toggleable\"><input class=\"sk-toggleable__control sk-hidden--visually\" id=\"sk-estimator-id-1\" type=\"checkbox\" checked><label for=\"sk-estimator-id-1\" class=\"sk-toggleable__label sk-toggleable__label-arrow\">RandomForestClassifier</label><div class=\"sk-toggleable__content\"><pre>RandomForestClassifier()</pre></div></div></div></div></div>"
            ]
          },
          "metadata": {},
          "execution_count": 12
        }
      ],
      "source": [
        "clf0.fit(X_train, y_train)\n",
        "clf1.fit(X_train, y_train)\n",
        "clf2.fit(X_train, y_train)\n",
        "clf3.fit(X_train, y_train)\n",
        "clf4.fit(X_train, y_train)\n",
        "clf5.fit(X_train, y_train)\n",
        "clf6.fit(X_train, y_train)\n",
        "clf7.fit(X_train, y_train)"
      ]
    },
    {
      "cell_type": "code",
      "execution_count": 13,
      "metadata": {
        "id": "SAPCYFqeENAE"
      },
      "outputs": [],
      "source": [
        "#Testing of ML Models\n",
        "y_pred0 = clf0.predict(X_test)\n",
        "y_pred1 = clf1.predict(X_test)\n",
        "y_pred2 = clf2.predict(X_test)\n",
        "y_pred3 = clf3.predict(X_test)\n",
        "y_pred4 = clf4.predict(X_test)\n",
        "y_pred5 = clf5.predict(X_test)\n",
        "y_pred6 = clf6.predict(X_test)\n",
        "y_pred7 = clf7.predict(X_test)"
      ]
    },
    {
      "cell_type": "code",
      "execution_count": 14,
      "metadata": {
        "colab": {
          "base_uri": "https://localhost:8080/"
        },
        "id": "kNg5fkjcEXE7",
        "outputId": "a5db1dde-9587-48b9-980a-534efdbc827c"
      },
      "outputs": [
        {
          "output_type": "stream",
          "name": "stdout",
          "text": [
            "\t\t\tOneVsRestClassifier\n",
            "\n",
            "               precision    recall  f1-score   support\n",
            "\n",
            "       Anger       0.86      0.86      0.86       159\n",
            "        Fear       0.92      0.85      0.88       112\n",
            "         Joy       0.87      0.93      0.90       165\n",
            "         Sad       0.86      0.84      0.85       166\n",
            "\n",
            "    accuracy                           0.87       602\n",
            "   macro avg       0.88      0.87      0.87       602\n",
            "weighted avg       0.87      0.87      0.87       602\n",
            "\n",
            "\t\t\tLinear SVC\n",
            "\n",
            "               precision    recall  f1-score   support\n",
            "\n",
            "       Anger       0.83      0.82      0.82       159\n",
            "        Fear       0.89      0.85      0.87       112\n",
            "         Joy       0.87      0.90      0.88       165\n",
            "         Sad       0.82      0.83      0.82       166\n",
            "\n",
            "    accuracy                           0.85       602\n",
            "   macro avg       0.85      0.85      0.85       602\n",
            "weighted avg       0.85      0.85      0.85       602\n",
            "\n",
            "\t\t\tLogisticRegression\n",
            "\n",
            "               precision    recall  f1-score   support\n",
            "\n",
            "       Anger       0.84      0.84      0.84       159\n",
            "        Fear       0.93      0.78      0.84       112\n",
            "         Joy       0.85      0.90      0.87       165\n",
            "         Sad       0.80      0.84      0.82       166\n",
            "\n",
            "    accuracy                           0.84       602\n",
            "   macro avg       0.85      0.84      0.84       602\n",
            "weighted avg       0.85      0.84      0.84       602\n",
            "\n",
            "\t\t\tSGDClassifier\n",
            "\n",
            "               precision    recall  f1-score   support\n",
            "\n",
            "       Anger       0.82      0.81      0.81       159\n",
            "        Fear       0.87      0.84      0.85       112\n",
            "         Joy       0.86      0.89      0.88       165\n",
            "         Sad       0.79      0.80      0.79       166\n",
            "\n",
            "    accuracy                           0.83       602\n",
            "   macro avg       0.84      0.83      0.83       602\n",
            "weighted avg       0.83      0.83      0.83       602\n",
            "\n",
            "\t\t\tSVC\n",
            "\n",
            "               precision    recall  f1-score   support\n",
            "\n",
            "       Anger       0.86      0.85      0.85       159\n",
            "        Fear       0.93      0.79      0.85       112\n",
            "         Joy       0.88      0.92      0.90       165\n",
            "         Sad       0.81      0.87      0.84       166\n",
            "\n",
            "    accuracy                           0.86       602\n",
            "   macro avg       0.87      0.86      0.86       602\n",
            "weighted avg       0.87      0.86      0.86       602\n",
            "\n",
            "\t\t\tKNeighborsClassifier\n",
            "\n",
            "               precision    recall  f1-score   support\n",
            "\n",
            "       Anger       0.85      0.67      0.75       159\n",
            "        Fear       0.89      0.61      0.72       112\n",
            "         Joy       0.64      0.92      0.76       165\n",
            "         Sad       0.71      0.70      0.71       166\n",
            "\n",
            "    accuracy                           0.74       602\n",
            "   macro avg       0.77      0.73      0.73       602\n",
            "weighted avg       0.76      0.74      0.73       602\n",
            "\n",
            "\t\t\tMultinomialNB\n",
            "\n",
            "               precision    recall  f1-score   support\n",
            "\n",
            "       Anger       0.83      0.81      0.82       159\n",
            "        Fear       0.95      0.74      0.83       112\n",
            "         Joy       0.78      0.92      0.84       165\n",
            "         Sad       0.82      0.82      0.82       166\n",
            "\n",
            "    accuracy                           0.83       602\n",
            "   macro avg       0.84      0.82      0.83       602\n",
            "weighted avg       0.83      0.83      0.83       602\n",
            "\n",
            "\t\t\tRandomForestClassifier\n",
            "\n",
            "               precision    recall  f1-score   support\n",
            "\n",
            "       Anger       0.86      0.79      0.82       159\n",
            "        Fear       0.96      0.83      0.89       112\n",
            "         Joy       0.80      0.91      0.85       165\n",
            "         Sad       0.81      0.84      0.83       166\n",
            "\n",
            "    accuracy                           0.84       602\n",
            "   macro avg       0.86      0.84      0.85       602\n",
            "weighted avg       0.85      0.84      0.84       602\n",
            "\n"
          ]
        }
      ],
      "source": [
        "#Classification Report\n",
        "print(\"\\t\\t\\tOneVsRestClassifier\\n\\n\", classification_report(y_test, y_pred0))\n",
        "print(\"\\t\\t\\tLinear SVC\\n\\n\", classification_report(y_test, y_pred1))\n",
        "print(\"\\t\\t\\tLogisticRegression\\n\\n\", classification_report(y_test, y_pred2))\n",
        "print(\"\\t\\t\\tSGDClassifier\\n\\n\", classification_report(y_test, y_pred3))\n",
        "print(\"\\t\\t\\tSVC\\n\\n\", classification_report(y_test, y_pred4))\n",
        "print(\"\\t\\t\\tKNeighborsClassifier\\n\\n\", classification_report(y_test, y_pred5))\n",
        "print(\"\\t\\t\\tMultinomialNB\\n\\n\", classification_report(y_test, y_pred6))\n",
        "print(\"\\t\\t\\tRandomForestClassifier\\n\\n\", classification_report(y_test, y_pred7))"
      ]
    },
    {
      "cell_type": "code",
      "execution_count": 15,
      "metadata": {
        "colab": {
          "base_uri": "https://localhost:8080/"
        },
        "id": "hjEkLWdNEnbi",
        "outputId": "f5f15d3c-ff09-408d-b201-c9951e951aa3"
      },
      "outputs": [
        {
          "output_type": "stream",
          "name": "stdout",
          "text": [
            "OneVsRestClassifier\n",
            "87.21 %\n",
            "\n",
            "Linear SVC\n",
            "84.72 %\n",
            "\n",
            "LogisticRegression\n",
            "84.39 %\n",
            "\n",
            "SGDClassifier\n",
            "83.22 %\n",
            "\n",
            "SVC\n",
            "86.38 %\n",
            "\n",
            "KNeighborsClassifier\n",
            "73.59 %\n",
            "\n",
            "MultinomialNB\n",
            "82.72 %\n",
            "\n",
            "RandomForestClassifier\n",
            "84.39 %\n",
            "\n"
          ]
        }
      ],
      "source": [
        "# Accuracy\n",
        "accuracy_OneVsRestClassifier = accuracy_score(y_test, y_pred0) * 100\n",
        "accuracy_LinearSVC = accuracy_score(y_test, y_pred1) * 100\n",
        "accuracy_LogisticRegression = accuracy_score(y_test, y_pred2) * 100\n",
        "accuracy_SGDClassifier = accuracy_score(y_test, y_pred3) * 100\n",
        "accuracy_SVC = accuracy_score(y_test, y_pred4) * 100\n",
        "accuracy_KNeighborsClassifier = accuracy_score(y_test, y_pred5) * 100\n",
        "accuracy_MultinomialNB = accuracy_score(y_test, y_pred6) * 100\n",
        "accuracy_RandomForestClassifier = accuracy_score(y_test, y_pred7) * 100\n",
        "\n",
        "print(\"OneVsRestClassifier\")\n",
        "print((accuracy_OneVsRestClassifier).round(2), \"%\\n\")\n",
        "\n",
        "print(\"Linear SVC\")\n",
        "print((accuracy_LinearSVC).round(2), \"%\\n\")\n",
        "\n",
        "print(\"LogisticRegression\")\n",
        "print((accuracy_LogisticRegression).round(2), \"%\\n\")\n",
        "\n",
        "print('SGDClassifier')\n",
        "print((accuracy_SGDClassifier).round(2), \"%\\n\")\n",
        "\n",
        "print('SVC')\n",
        "print((accuracy_SVC).round(2), \"%\\n\")\n",
        "\n",
        "print('KNeighborsClassifier')\n",
        "print((accuracy_KNeighborsClassifier).round(2), \"%\\n\")\n",
        "\n",
        "print('MultinomialNB')\n",
        "print((accuracy_MultinomialNB).round(2), \"%\\n\")\n",
        "\n",
        "print('RandomForestClassifier')\n",
        "print((accuracy_RandomForestClassifier).round(2), \"%\\n\")"
      ]
    },
    {
      "cell_type": "code",
      "source": [
        "from sklearn.metrics import confusion_matrix\n",
        "y_train_pred0 = clf0.predict(X_train)\n",
        "y_train_pred1 = clf1.predict(X_train)\n",
        "y_train_pred2 = clf2.predict(X_train)\n",
        "y_train_pred3 = clf3.predict(X_train)\n",
        "y_train_pred4 = clf4.predict(X_train)\n",
        "y_train_pred5 = clf5.predict(X_train)\n",
        "y_train_pred6 = clf6.predict(X_train)\n",
        "y_train_pred7 = clf7.predict(X_train)\n",
        "# List of predicted values for each classifier\n",
        "y_train_preds = [y_train_pred0, y_train_pred1, y_train_pred2, y_train_pred3, y_train_pred4, y_train_pred5, y_train_pred6, y_train_pred7]\n",
        "\n",
        "# List of classifier names\n",
        "classifier_names = [\n",
        "    \"OneVsRestClassifier\",\n",
        "    \"Linear SVC\",\n",
        "    \"LogisticRegression\",\n",
        "    \"SGDClassifier\",\n",
        "    \"SVC\",\n",
        "    \"KNeighborsClassifier\",\n",
        "    \"MultinomialNB\",\n",
        "    \"RandomForestClassifier\"\n",
        "]\n",
        "\n",
        "# List to store confusion matrices\n",
        "cms = []\n",
        "\n",
        "# Calculate confusion matrix for each classifier\n",
        "for y_pred in y_train_preds:\n",
        "    cm = confusion_matrix(y_train, y_pred)\n",
        "    cms.append(cm)\n",
        "\n",
        "# Define class labels\n",
        "class_labels = ['fear', 'anger', 'sad', 'happy']\n",
        "\n",
        "# Print confusion matrix with labels for each classifier\n",
        "for i, (cm, classifier_name) in enumerate(zip(cms, classifier_names)):\n",
        "    print(f\"\\nConfusion Matrix for {classifier_name}:\")\n",
        "    print(\"\\t\" + \"\\t\".join(class_labels))\n",
        "    for j, label in enumerate(class_labels):\n",
        "        print(f\"{label}\\t{cm[j]}\")\n"
      ],
      "metadata": {
        "colab": {
          "base_uri": "https://localhost:8080/"
        },
        "id": "lA3i4LZgOx63",
        "outputId": "ebce2849-6af2-416d-9549-54bb0efecd5e"
      },
      "execution_count": 17,
      "outputs": [
        {
          "output_type": "stream",
          "name": "stdout",
          "text": [
            "\n",
            "Confusion Matrix for OneVsRestClassifier:\n",
            "\tfear\tanger\tsad\thappy\n",
            "fear\t[349   1   7   3]\n",
            "anger\t[  0 237   0   2]\n",
            "sad\t[  1   1 436   3]\n",
            "happy\t[  5   1   9 348]\n",
            "\n",
            "Confusion Matrix for Linear SVC:\n",
            "\tfear\tanger\tsad\thappy\n",
            "fear\t[351   0   3   6]\n",
            "anger\t[  0 239   0   0]\n",
            "sad\t[  1   1 432   7]\n",
            "happy\t[  4   1   3 355]\n",
            "\n",
            "Confusion Matrix for LogisticRegression:\n",
            "\tfear\tanger\tsad\thappy\n",
            "fear\t[336   2  13   9]\n",
            "anger\t[  1 229   0   9]\n",
            "sad\t[  4   1 431   5]\n",
            "happy\t[  8   2  17 336]\n",
            "\n",
            "Confusion Matrix for SGDClassifier:\n",
            "\tfear\tanger\tsad\thappy\n",
            "fear\t[350   0   4   6]\n",
            "anger\t[  0 239   0   0]\n",
            "sad\t[  1   1 432   7]\n",
            "happy\t[  3   1   2 357]\n",
            "\n",
            "Confusion Matrix for SVC:\n",
            "\tfear\tanger\tsad\thappy\n",
            "fear\t[357   0   1   2]\n",
            "anger\t[  0 237   0   2]\n",
            "sad\t[  2   0 437   2]\n",
            "happy\t[  2   1   2 358]\n",
            "\n",
            "Confusion Matrix for KNeighborsClassifier:\n",
            "\tfear\tanger\tsad\thappy\n",
            "fear\t[249   6  64  41]\n",
            "anger\t[ 18 146  42  33]\n",
            "sad\t[ 10   1 411  19]\n",
            "happy\t[ 20   4  85 254]\n",
            "\n",
            "Confusion Matrix for MultinomialNB:\n",
            "\tfear\tanger\tsad\thappy\n",
            "fear\t[323   4  19  14]\n",
            "anger\t[  8 209   9  13]\n",
            "sad\t[  5   2 430   4]\n",
            "happy\t[ 18   2  26 317]\n",
            "\n",
            "Confusion Matrix for RandomForestClassifier:\n",
            "\tfear\tanger\tsad\thappy\n",
            "fear\t[359   0   1   0]\n",
            "anger\t[  0 239   0   0]\n",
            "sad\t[  1   0 440   0]\n",
            "happy\t[  0   0   2 361]\n"
          ]
        }
      ]
    },
    {
      "cell_type": "code",
      "source": [
        "#ENSEMMBLE CLASSIFIER 1\n",
        "from sklearn.ensemble import VotingClassifier\n",
        "from sklearn.metrics import accuracy_score, classification_report\n",
        "\n",
        "# Initialize individual classifiers\n",
        "ensemble_classifier_1 = VotingClassifier(estimators=[\n",
        "    ('svc', clf0),\n",
        "    ('random_forest', clf7),\n",
        "    ('svm', clf1)\n",
        "], voting='hard')\n",
        "\n",
        "# Fit the ensemble classifier to the training data\n",
        "ensemble_classifier_1.fit(X_train, y_train)\n",
        "\n",
        "# Make predictions on the test data\n",
        "y_pred_1 = ensemble_classifier_1.predict(X_test)\n",
        "\n",
        "# Evaluate the ensemble model\n",
        "accuracy_1 = accuracy_score(y_test, y_pred_1)\n",
        "report_1 = classification_report(y_test, y_pred_1)\n",
        "\n",
        "print(f\"Accuracy: {accuracy_1:.2f}\")\n",
        "print(\"Classification Report:\\n\", report_1)"
      ],
      "metadata": {
        "colab": {
          "base_uri": "https://localhost:8080/"
        },
        "id": "081oxlAbUMnp",
        "outputId": "235085c4-b954-45c3-b623-c725ffa698ef"
      },
      "execution_count": 18,
      "outputs": [
        {
          "output_type": "stream",
          "name": "stdout",
          "text": [
            "Accuracy: 0.87\n",
            "Classification Report:\n",
            "               precision    recall  f1-score   support\n",
            "\n",
            "       Anger       0.84      0.85      0.85       159\n",
            "        Fear       0.90      0.85      0.88       112\n",
            "         Joy       0.87      0.93      0.90       165\n",
            "         Sad       0.86      0.84      0.85       166\n",
            "\n",
            "    accuracy                           0.87       602\n",
            "   macro avg       0.87      0.87      0.87       602\n",
            "weighted avg       0.87      0.87      0.87       602\n",
            "\n"
          ]
        }
      ]
    },
    {
      "cell_type": "code",
      "source": [
        "from sklearn.metrics import confusion_matrix\n",
        "import seaborn as sns\n",
        "import matplotlib.pyplot as plt\n",
        "cm = confusion_matrix(y_test, y_pred_1)\n",
        "# Normalise\n",
        "cmn = cm.astype('float') / cm.sum(axis=1)[:, np.newaxis]\n",
        "fig, ax = plt.subplots(figsize=(10,10))\n",
        "sns.heatmap(cmn, annot=True, fmt='.2f', xticklabels=class_labels, yticklabels=class_labels)\n",
        "plt.ylabel('Actual')\n",
        "plt.xlabel('Predicted')\n",
        "plt.show(block=False)"
      ],
      "metadata": {
        "colab": {
          "base_uri": "https://localhost:8080/",
          "height": 850
        },
        "id": "jjUmzrS2VsLO",
        "outputId": "cd4dd37b-4077-4398-ac93-7b492902eef3"
      },
      "execution_count": 20,
      "outputs": [
        {
          "output_type": "display_data",
          "data": {
            "text/plain": [
              "<Figure size 1000x1000 with 2 Axes>"
            ],
            "image/png": "[encoded data removed]"
          },
          "metadata": {}
        }
      ]
    },
    {
      "cell_type": "code",
      "source": [
        "# Get the confusion matrix\n",
        "cm = confusion_matrix(y_test, y_pred_1)\n",
        "\n",
        "# Define class labels\n",
        "class_labels = ['fear', 'anger', 'sad', 'happy']\n",
        "\n",
        "# Print confusion matrix with labels\n",
        "print(\"Confusion Matrix:\")\n",
        "print(\"\\t\" + \"\\t\".join(class_labels))\n",
        "for i, label in enumerate(class_labels):\n",
        "    print(f\"{label}\\t{cm[i]}\")"
      ],
      "metadata": {
        "colab": {
          "base_uri": "https://localhost:8080/"
        },
        "id": "tV-zGpEzREed",
        "outputId": "9a45af54-068f-4a2b-a889-74b8c1167811"
      },
      "execution_count": 21,
      "outputs": [
        {
          "output_type": "stream",
          "name": "stdout",
          "text": [
            "Confusion Matrix:\n",
            "\tfear\tanger\tsad\thappy\n",
            "fear\t[135   2  12  10]\n",
            "anger\t[ 3 95  5  9]\n",
            "sad\t[  5   3 153   4]\n",
            "happy\t[ 17   5   5 139]\n"
          ]
        }
      ]
    },
    {
      "cell_type": "code",
      "source": [
        "# Initialize individual classifiers\n",
        "ensemble_classifier_2 = VotingClassifier(estimators=[\n",
        "    ('sgd', clf3),\n",
        "    ('logistic', clf2),\n",
        "    ('knn', clf5)\n",
        "], voting='hard')\n",
        "\n",
        "# Fit the ensemble classifier to the training data\n",
        "ensemble_classifier_2.fit(X_train, y_train)\n",
        "\n",
        "# Make predictions on the test data\n",
        "y_pred_2 = ensemble_classifier_2.predict(X_test)\n",
        "\n",
        "# Evaluate the ensemble model\n",
        "accuracy_2 = accuracy_score(y_test, y_pred_2)\n",
        "report_2 = classification_report(y_test, y_pred_2)\n",
        "\n",
        "print(f\"Accuracy: {accuracy_2:.2f}\")\n",
        "print(\"Classification Report:\\n\", report_2)"
      ],
      "metadata": {
        "colab": {
          "base_uri": "https://localhost:8080/"
        },
        "id": "JCgZlAfXUMyU",
        "outputId": "d948bb87-fd90-4bbb-9006-7898a9202043"
      },
      "execution_count": 23,
      "outputs": [
        {
          "output_type": "stream",
          "name": "stdout",
          "text": [
            "Accuracy: 0.84\n",
            "Classification Report:\n",
            "               precision    recall  f1-score   support\n",
            "\n",
            "       Anger       0.84      0.83      0.83       159\n",
            "        Fear       0.91      0.79      0.84       112\n",
            "         Joy       0.84      0.91      0.87       165\n",
            "         Sad       0.80      0.81      0.80       166\n",
            "\n",
            "    accuracy                           0.84       602\n",
            "   macro avg       0.84      0.83      0.84       602\n",
            "weighted avg       0.84      0.84      0.84       602\n",
            "\n"
          ]
        }
      ]
    },
    {
      "cell_type": "code",
      "source": [
        "cm = confusion_matrix(y_test, y_pred_2)\n",
        "# Normalise\n",
        "cmn = cm.astype('float') / cm.sum(axis=1)[:, np.newaxis]\n",
        "fig, ax = plt.subplots(figsize=(10,10))\n",
        "sns.heatmap(cmn, annot=True, fmt='.2f', xticklabels=class_labels, yticklabels=class_labels)\n",
        "plt.ylabel('Actual')\n",
        "plt.xlabel('Predicted')\n",
        "plt.show(block=False)"
      ],
      "metadata": {
        "colab": {
          "base_uri": "https://localhost:8080/",
          "height": 850
        },
        "id": "62Sz_OVuVk1R",
        "outputId": "bc46103e-21b5-44b9-d5b4-72f2a8f112ef"
      },
      "execution_count": 24,
      "outputs": [
        {
          "output_type": "display_data",
          "data": {
            "text/plain": [
              "<Figure size 1000x1000 with 2 Axes>"
            ],
            "image/png": "[encoded data removed]"
          },
          "metadata": {}
        }
      ]
    },
    {
      "cell_type": "code",
      "source": [
        "# Get the confusion matrix\n",
        "cm = confusion_matrix(y_test, y_pred_2)\n",
        "\n",
        "# Define class labels\n",
        "class_labels = ['fear', 'anger', 'sad', 'happy']\n",
        "\n",
        "# Print confusion matrix with labels\n",
        "print(\"Confusion Matrix:\")\n",
        "print(\"\\t\" + \"\\t\".join(class_labels))\n",
        "for i, label in enumerate(class_labels):\n",
        "    print(f\"{label}\\t{cm[i]}\")"
      ],
      "metadata": {
        "colab": {
          "base_uri": "https://localhost:8080/"
        },
        "id": "KEExkOd_RIxL",
        "outputId": "9d41f6e6-44af-488e-b5d1-c2d370b1fd9e"
      },
      "execution_count": 25,
      "outputs": [
        {
          "output_type": "stream",
          "name": "stdout",
          "text": [
            "Confusion Matrix:\n",
            "\tfear\tanger\tsad\thappy\n",
            "fear\t[132   2  12  13]\n",
            "anger\t[ 5 88  6 13]\n",
            "sad\t[  5   2 150   8]\n",
            "happy\t[ 16   5  11 134]\n"
          ]
        }
      ]
    },
    {
      "cell_type": "code",
      "source": [
        "# Initialize individual classifiers\n",
        "ensemble_classifier_3 = VotingClassifier(estimators=[\n",
        "    ('multinomial_nb', clf6),\n",
        "    ('svc', clf4),\n",
        "    ('linear_svc', clf1)\n",
        "], voting='hard')\n",
        "\n",
        "# Fit the ensemble classifier to the training data\n",
        "ensemble_classifier_3.fit(X_train, y_train)\n",
        "\n",
        "# Make predictions on the test data\n",
        "y_pred_3 = ensemble_classifier_3.predict(X_test)\n",
        "\n",
        "# Evaluate the ensemble model\n",
        "accuracy_3 = accuracy_score(y_test, y_pred_3)\n",
        "report_3 = classification_report(y_test, y_pred_3)\n",
        "\n",
        "print(f\"Accuracy: {accuracy_3:.2f}\")\n",
        "print(\"Classification Report:\\n\", report_3)"
      ],
      "metadata": {
        "colab": {
          "base_uri": "https://localhost:8080/"
        },
        "id": "2bspnA0kUM6S",
        "outputId": "ba3095dc-6151-471f-ec14-89d9ae454263"
      },
      "execution_count": 26,
      "outputs": [
        {
          "output_type": "stream",
          "name": "stdout",
          "text": [
            "Accuracy: 0.87\n",
            "Classification Report:\n",
            "               precision    recall  f1-score   support\n",
            "\n",
            "       Anger       0.84      0.85      0.85       159\n",
            "        Fear       0.93      0.80      0.86       112\n",
            "         Joy       0.87      0.93      0.90       165\n",
            "         Sad       0.84      0.86      0.85       166\n",
            "\n",
            "    accuracy                           0.87       602\n",
            "   macro avg       0.87      0.86      0.86       602\n",
            "weighted avg       0.87      0.87      0.87       602\n",
            "\n"
          ]
        }
      ]
    },
    {
      "cell_type": "code",
      "source": [
        "cm = confusion_matrix(y_test, y_pred_3)\n",
        "# Normalise\n",
        "cmn = cm.astype('float') / cm.sum(axis=1)[:, np.newaxis]\n",
        "fig, ax = plt.subplots(figsize=(10,10))\n",
        "sns.heatmap(cmn, annot=True, fmt='.2f', xticklabels=class_labels, yticklabels=class_labels)\n",
        "plt.ylabel('Actual')\n",
        "plt.xlabel('Predicted')\n",
        "plt.show(block=False)"
      ],
      "metadata": {
        "colab": {
          "base_uri": "https://localhost:8080/",
          "height": 850
        },
        "id": "YngR-nLkVTAu",
        "outputId": "013192fb-bae1-45e6-84b8-4e1e12a44ba8"
      },
      "execution_count": 27,
      "outputs": [
        {
          "output_type": "display_data",
          "data": {
            "text/plain": [
              "<Figure size 1000x1000 with 2 Axes>"
            ],
            "image/png": "[encoded data removed]"
          },
          "metadata": {}
        }
      ]
    },
    {
      "cell_type": "code",
      "source": [
        "# Get the confusion matrix\n",
        "cm = confusion_matrix(y_test, y_pred_3)\n",
        "\n",
        "# Define class labels\n",
        "class_labels = ['fear', 'anger', 'sad', 'happy']\n",
        "\n",
        "# Print confusion matrix with labels\n",
        "print(\"Confusion Matrix:\")\n",
        "print(\"\\t\" + \"\\t\".join(class_labels))\n",
        "for i, label in enumerate(class_labels):\n",
        "    print(f\"{label}\\t{cm[i]}\")"
      ],
      "metadata": {
        "colab": {
          "base_uri": "https://localhost:8080/"
        },
        "id": "WMxLBq8eRPp9",
        "outputId": "84bd4f5b-e654-4fc4-a556-cb26e74aab50"
      },
      "execution_count": 28,
      "outputs": [
        {
          "output_type": "stream",
          "name": "stdout",
          "text": [
            "Confusion Matrix:\n",
            "\tfear\tanger\tsad\thappy\n",
            "fear\t[135   3  10  11]\n",
            "anger\t[ 5 90  5 12]\n",
            "sad\t[  6   2 153   4]\n",
            "happy\t[ 14   2   7 143]\n"
          ]
        }
      ]
    },
    {
      "cell_type": "code",
      "source": [
        "from sklearn.ensemble import GradientBoostingClassifier\n",
        "\n",
        "# Initialize individual classifiers\n",
        "ensemble_classifier_4 = VotingClassifier(estimators=[\n",
        "    ('svc', clf0),\n",
        "    ('random_forest', clf7),\n",
        "    ('svm', clf1),\n",
        "    ('gradient_boosting', GradientBoostingClassifier())\n",
        "], voting='hard')\n",
        "\n",
        "# Fit the ensemble classifier to the training data\n",
        "ensemble_classifier_4.fit(X_train, y_train)\n",
        "\n",
        "# Make predictions on the test data\n",
        "y_pred_4 = ensemble_classifier_4.predict(X_test)\n",
        "\n",
        "# Evaluate the ensemble model\n",
        "accuracy_4 = accuracy_score(y_test, y_pred_4)\n",
        "report_4 = classification_report(y_test, y_pred_4)\n",
        "\n",
        "print(f\"Accuracy: {accuracy_4:.2f}\")\n",
        "print(\"Classification Report:\\n\", report_4)"
      ],
      "metadata": {
        "colab": {
          "base_uri": "https://localhost:8080/"
        },
        "id": "_EgcItmtVTEw",
        "outputId": "5f5a2e6e-0cbd-4f4d-f721-02183deb2097"
      },
      "execution_count": 29,
      "outputs": [
        {
          "output_type": "stream",
          "name": "stdout",
          "text": [
            "Accuracy: 0.86\n",
            "Classification Report:\n",
            "               precision    recall  f1-score   support\n",
            "\n",
            "       Anger       0.84      0.85      0.85       159\n",
            "        Fear       0.92      0.88      0.90       112\n",
            "         Joy       0.83      0.94      0.88       165\n",
            "         Sad       0.89      0.80      0.84       166\n",
            "\n",
            "    accuracy                           0.86       602\n",
            "   macro avg       0.87      0.86      0.87       602\n",
            "weighted avg       0.87      0.86      0.86       602\n",
            "\n"
          ]
        }
      ]
    },
    {
      "cell_type": "code",
      "source": [
        "cm = confusion_matrix(y_test, y_pred_4)\n",
        "# Normalise\n",
        "cmn = cm.astype('float') / cm.sum(axis=1)[:, np.newaxis]\n",
        "fig, ax = plt.subplots(figsize=(10,10))\n",
        "sns.heatmap(cmn, annot=True, fmt='.2f', xticklabels=class_labels, yticklabels=class_labels)\n",
        "plt.ylabel('Actual')\n",
        "plt.xlabel('Predicted')\n",
        "plt.show(block=False)"
      ],
      "metadata": {
        "colab": {
          "base_uri": "https://localhost:8080/",
          "height": 850
        },
        "id": "KnKZjPA-jBBF",
        "outputId": "f523acb8-8829-487d-aec9-0b96b60bc1f6"
      },
      "execution_count": 30,
      "outputs": [
        {
          "output_type": "display_data",
          "data": {
            "text/plain": [
              "<Figure size 1000x1000 with 2 Axes>"
            ],
            "image/png": "[encoded data removed]"
          },
          "metadata": {}
        }
      ]
    },
    {
      "cell_type": "code",
      "source": [
        "from sklearn.metrics import confusion_matrix\n",
        "\n",
        "# Get the confusion matrix\n",
        "cm = confusion_matrix(y_test, y_pred_4)\n",
        "\n",
        "# Define class labels\n",
        "class_labels = ['fear', 'anger', 'sad', 'happy']\n",
        "\n",
        "# Print confusion matrix with labels\n",
        "print(\"Confusion Matrix:\")\n",
        "print(\"\\t\" + \"\\t\".join(class_labels))\n",
        "for i, label in enumerate(class_labels):\n",
        "    print(f\"{label}\\t{cm[i]}\")\n"
      ],
      "metadata": {
        "colab": {
          "base_uri": "https://localhost:8080/"
        },
        "id": "IjXkpPu8i685",
        "outputId": "535f6cd1-861e-4714-ea84-262806b32cbd"
      },
      "execution_count": 31,
      "outputs": [
        {
          "output_type": "stream",
          "name": "stdout",
          "text": [
            "Confusion Matrix:\n",
            "\tfear\tanger\tsad\thappy\n",
            "fear\t[135   2  13   9]\n",
            "anger\t[ 4 98  4  6]\n",
            "sad\t[  5   3 155   2]\n",
            "happy\t[ 16   3  15 132]\n"
          ]
        }
      ]
    },
    {
      "cell_type": "code",
      "source": [
        "from sklearn.tree import DecisionTreeClassifier\n",
        "from sklearn.ensemble import VotingClassifier, ExtraTreesClassifier\n",
        "# Initialize individual classifiers\n",
        "ensemble_classifier_5 = VotingClassifier(estimators=[\n",
        "    ('svc', clf0),\n",
        "    ('random_forest', clf7),\n",
        "    ('svm', clf1),\n",
        "    ('decision_tree', DecisionTreeClassifier()),\n",
        "    ('extra_trees', ExtraTreesClassifier())\n",
        "], voting='hard')\n",
        "\n",
        "# Fit the ensemble classifier to the training data\n",
        "ensemble_classifier_5.fit(X_train, y_train)\n",
        "\n",
        "# Make predictions on the test data\n",
        "y_pred_5 = ensemble_classifier_5.predict(X_test)\n",
        "\n",
        "# Evaluate the ensemble model\n",
        "accuracy_5 = accuracy_score(y_test, y_pred_5)\n",
        "report_5 = classification_report(y_test, y_pred_5)\n",
        "\n",
        "print(f\"Accuracy: {accuracy_5:.2f}\")\n",
        "print(\"Classification Report:\\n\",report_5)"
      ],
      "metadata": {
        "colab": {
          "base_uri": "https://localhost:8080/"
        },
        "id": "qrWl436pVTKM",
        "outputId": "419ff8eb-70c3-4858-d691-797154d638e1"
      },
      "execution_count": 32,
      "outputs": [
        {
          "output_type": "stream",
          "name": "stdout",
          "text": [
            "Accuracy: 0.87\n",
            "Classification Report:\n",
            "               precision    recall  f1-score   support\n",
            "\n",
            "       Anger       0.87      0.84      0.85       159\n",
            "        Fear       0.92      0.87      0.89       112\n",
            "         Joy       0.85      0.93      0.89       165\n",
            "         Sad       0.86      0.84      0.85       166\n",
            "\n",
            "    accuracy                           0.87       602\n",
            "   macro avg       0.88      0.87      0.87       602\n",
            "weighted avg       0.87      0.87      0.87       602\n",
            "\n"
          ]
        }
      ]
    },
    {
      "cell_type": "code",
      "source": [
        "cm = confusion_matrix(y_test, y_pred_5)\n",
        "# Normalise\n",
        "cmn = cm.astype('float') / cm.sum(axis=1)[:, np.newaxis]\n",
        "fig, ax = plt.subplots(figsize=(10,10))\n",
        "sns.heatmap(cmn, annot=True, fmt='.2f', xticklabels=class_labels, yticklabels=class_labels)\n",
        "plt.ylabel('Actual')\n",
        "plt.xlabel('Predicted')\n",
        "plt.show(block=False)"
      ],
      "metadata": {
        "colab": {
          "base_uri": "https://localhost:8080/",
          "height": 850
        },
        "id": "VA1QviukVTMp",
        "outputId": "ffe07865-93ab-421c-e375-f492376ab952"
      },
      "execution_count": 34,
      "outputs": [
        {
          "output_type": "display_data",
          "data": {
            "text/plain": [
              "<Figure size 1000x1000 with 2 Axes>"
            ],
            "image/png": "[encoded data removed]"
          },
          "metadata": {}
        }
      ]
    },
    {
      "cell_type": "code",
      "source": [
        "# Get the confusion matrix\n",
        "cm = confusion_matrix(y_test, y_pred_5)\n",
        "\n",
        "# Define class labels\n",
        "class_labels = ['fear', 'anger', 'sad', 'happy']\n",
        "\n",
        "# Print confusion matrix with labels\n",
        "print(\"Confusion Matrix:\")\n",
        "print(\"\\t\" + \"\\t\".join(class_labels))\n",
        "for i, label in enumerate(class_labels):\n",
        "    print(f\"{label}\\t{cm[i]}\")"
      ],
      "metadata": {
        "colab": {
          "base_uri": "https://localhost:8080/"
        },
        "id": "oSFkLdoARWaL",
        "outputId": "1f225e87-b423-4496-82f7-bc9d78c57c84"
      },
      "execution_count": 35,
      "outputs": [
        {
          "output_type": "stream",
          "name": "stdout",
          "text": [
            "Confusion Matrix:\n",
            "\tfear\tanger\tsad\thappy\n",
            "fear\t[133   3  12  11]\n",
            "anger\t[ 3 97  4  8]\n",
            "sad\t[  5   2 154   4]\n",
            "happy\t[ 12   3  11 140]\n"
          ]
        }
      ]
    },
    {
      "cell_type": "code",
      "source": [
        "from sklearn.ensemble import AdaBoostClassifier\n",
        "import xgboost as xgb\n",
        "\n",
        "# Initialize individual classifiers\n",
        "ensemble_classifier_6 = VotingClassifier(estimators=[\n",
        "    ('adaboost', AdaBoostClassifier(n_estimators=50)),\n",
        "    ('xgboost', xgb.XGBClassifier())\n",
        "], voting='hard')\n",
        "\n",
        "# Fit the ensemble classifier to the training data\n",
        "ensemble_classifier_6.fit(X_train, y_train)\n",
        "\n",
        "# Make predictions on the test data\n",
        "y_pred_6 = ensemble_classifier_6.predict(X_test)\n",
        "\n",
        "# Evaluate the ensemble model\n",
        "accuracy_6 = accuracy_score(y_test, y_pred_6)\n",
        "report_6 = classification_report(y_test, y_pred_6)\n",
        "\n",
        "print(f\"Accuracy: {accuracy_6:.2f}\")\n",
        "print(\"Classification Report:\\n\", report_6)"
      ],
      "metadata": {
        "colab": {
          "base_uri": "https://localhost:8080/"
        },
        "id": "5f-4H2VLVTPe",
        "outputId": "7e656800-1e0b-4c21-c23d-8b968ac69b7c"
      },
      "execution_count": 36,
      "outputs": [
        {
          "output_type": "stream",
          "name": "stdout",
          "text": [
            "Accuracy: 0.80\n",
            "Classification Report:\n",
            "               precision    recall  f1-score   support\n",
            "\n",
            "       Anger       0.76      0.80      0.78       159\n",
            "        Fear       0.87      0.80      0.83       112\n",
            "         Joy       0.79      0.84      0.82       165\n",
            "         Sad       0.80      0.74      0.77       166\n",
            "\n",
            "    accuracy                           0.80       602\n",
            "   macro avg       0.80      0.80      0.80       602\n",
            "weighted avg       0.80      0.80      0.80       602\n",
            "\n"
          ]
        }
      ]
    },
    {
      "cell_type": "code",
      "source": [
        "cm = confusion_matrix(y_test, y_pred_6)\n",
        "# Normalise\n",
        "cmn = cm.astype('float') / cm.sum(axis=1)[:, np.newaxis]\n",
        "fig, ax = plt.subplots(figsize=(10,10))\n",
        "sns.heatmap(cmn, annot=True, fmt='.2f', xticklabels=class_labels, yticklabels=class_labels)\n",
        "plt.ylabel('Actual')\n",
        "plt.xlabel('Predicted')\n",
        "plt.show(block=False)"
      ],
      "metadata": {
        "colab": {
          "base_uri": "https://localhost:8080/",
          "height": 850
        },
        "id": "L8h-PPH_X-hZ",
        "outputId": "390b344c-46f9-4916-809c-effe11f19cf8"
      },
      "execution_count": 37,
      "outputs": [
        {
          "output_type": "display_data",
          "data": {
            "text/plain": [
              "<Figure size 1000x1000 with 2 Axes>"
            ],
            "image/png": "[encoded data removed]"
          },
          "metadata": {}
        }
      ]
    },
    {
      "cell_type": "code",
      "source": [
        "# Get the confusion matrix\n",
        "cm = confusion_matrix(y_test, y_pred_6)\n",
        "\n",
        "# Define class labels\n",
        "class_labels = ['fear', 'anger', 'sad', 'happy']\n",
        "\n",
        "# Print confusion matrix with labels\n",
        "print(\"Confusion Matrix:\")\n",
        "print(\"\\t\" + \"\\t\".join(class_labels))\n",
        "for i, label in enumerate(class_labels):\n",
        "    print(f\"{label}\\t{cm[i]}\")"
      ],
      "metadata": {
        "colab": {
          "base_uri": "https://localhost:8080/"
        },
        "id": "qzvwzg3JRZWd",
        "outputId": "d5452f64-4387-44ef-d515-6e4e06d0318c"
      },
      "execution_count": 38,
      "outputs": [
        {
          "output_type": "stream",
          "name": "stdout",
          "text": [
            "Confusion Matrix:\n",
            "\tfear\tanger\tsad\thappy\n",
            "fear\t[127   5  13  14]\n",
            "anger\t[ 7 90  7  8]\n",
            "sad\t[ 15   2 139   9]\n",
            "happy\t[ 19   7  17 123]\n"
          ]
        }
      ]
    },
    {
      "cell_type": "code",
      "source": [
        "from sklearn.ensemble import AdaBoostClassifier\n",
        "from xgboost import XGBClassifier\n",
        "\n",
        "# Initialize individual classifiers\n",
        "ensemble_classifier_7 = VotingClassifier(estimators=[\n",
        "    ('random_forest', RandomForestClassifier()),\n",
        "    ('kneighbors', KNeighborsClassifier(n_neighbors=175)),\n",
        "    ('multinomial_nb', MultinomialNB()),\n",
        "    ('adaboost', AdaBoostClassifier()),\n",
        "    ('xgboost', XGBClassifier())\n",
        "], voting='hard')\n",
        "\n",
        "# Fit the ensemble classifier to the training data\n",
        "ensemble_classifier_7.fit(X_train, y_train)\n",
        "\n",
        "# Make predictions on the test data\n",
        "y_pred_7 = ensemble_classifier_7.predict(X_test)\n",
        "\n",
        "# Evaluate the ensemble model\n",
        "accuracy_7 = accuracy_score(y_test, y_pred_7)\n",
        "report_7 = classification_report(y_test, y_pred_7)\n",
        "\n",
        "print(f\"Accuracy: {accuracy_7:.2f}\")\n",
        "print(\"Classification Report:\\n\",report_7)"
      ],
      "metadata": {
        "colab": {
          "base_uri": "https://localhost:8080/"
        },
        "id": "52O3q3I7X-ll",
        "outputId": "408d05b5-8539-4158-dd1b-030f3701dc23"
      },
      "execution_count": 39,
      "outputs": [
        {
          "output_type": "stream",
          "name": "stdout",
          "text": [
            "Accuracy: 0.84\n",
            "Classification Report:\n",
            "               precision    recall  f1-score   support\n",
            "\n",
            "       Anger       0.87      0.80      0.83       159\n",
            "        Fear       0.96      0.77      0.85       112\n",
            "         Joy       0.80      0.93      0.86       165\n",
            "         Sad       0.80      0.84      0.82       166\n",
            "\n",
            "    accuracy                           0.84       602\n",
            "   macro avg       0.86      0.83      0.84       602\n",
            "weighted avg       0.85      0.84      0.84       602\n",
            "\n"
          ]
        }
      ]
    },
    {
      "cell_type": "code",
      "source": [
        "cm = confusion_matrix(y_test, y_pred_7)\n",
        "# Normalise\n",
        "cmn = cm.astype('float') / cm.sum(axis=1)[:, np.newaxis]\n",
        "fig, ax = plt.subplots(figsize=(10,10))\n",
        "sns.heatmap(cmn, annot=True, fmt='.2f', xticklabels=class_labels, yticklabels=class_labels)\n",
        "plt.ylabel('Actual')\n",
        "plt.xlabel('Predicted')\n",
        "plt.show(block=False)"
      ],
      "metadata": {
        "colab": {
          "base_uri": "https://localhost:8080/",
          "height": 850
        },
        "id": "ZdUK9kyyX-pY",
        "outputId": "7e002539-237c-4226-df26-1bd653bd26ce"
      },
      "execution_count": 40,
      "outputs": [
        {
          "output_type": "display_data",
          "data": {
            "text/plain": [
              "<Figure size 1000x1000 with 2 Axes>"
            ],
            "image/png": "[encoded data removed]"
          },
          "metadata": {}
        }
      ]
    },
    {
      "cell_type": "code",
      "source": [
        "# Get the confusion matrix\n",
        "cm = confusion_matrix(y_test, y_pred_7)\n",
        "\n",
        "# Define class labels\n",
        "class_labels = ['fear', 'anger', 'sad', 'happy']\n",
        "\n",
        "# Print confusion matrix with labels\n",
        "print(\"Confusion Matrix:\")\n",
        "print(\"\\t\" + \"\\t\".join(class_labels))\n",
        "for i, label in enumerate(class_labels):\n",
        "    print(f\"{label}\\t{cm[i]}\")"
      ],
      "metadata": {
        "colab": {
          "base_uri": "https://localhost:8080/"
        },
        "id": "vncZ4WvLRb29",
        "outputId": "a1bada43-fa57-4e76-d512-cab549aa1b73"
      },
      "execution_count": 41,
      "outputs": [
        {
          "output_type": "stream",
          "name": "stdout",
          "text": [
            "Confusion Matrix:\n",
            "\tfear\tanger\tsad\thappy\n",
            "fear\t[127   2  15  15]\n",
            "anger\t[ 5 86  7 14]\n",
            "sad\t[  5   1 153   6]\n",
            "happy\t[  9   1  17 139]\n"
          ]
        }
      ]
    },
    {
      "cell_type": "code",
      "source": [
        "from sklearn.ensemble import VotingClassifier\n",
        "from sklearn.metrics import accuracy_score, classification_report\n",
        "\n",
        "# Initialize individual classifiers\n",
        "ensemble_classifier_8 = VotingClassifier(estimators=[\n",
        "    ('ovs', clf0),\n",
        "    ('svm', clf1),\n",
        "    ('svc', clf4),\n",
        "    ('random_forest', clf7),\n",
        "    ('lr',clf2)\n",
        "], voting='hard')\n",
        "\n",
        "# Fit the ensemble classifier to the training data\n",
        "ensemble_classifier_8.fit(X_train, y_train)\n",
        "\n",
        "# Make predictions on the test data\n",
        "y_pred_8 = ensemble_classifier_8.predict(X_test)\n",
        "\n",
        "# Evaluate the ensemble model\n",
        "accuracy_8 = accuracy_score(y_test, y_pred_8)\n",
        "report_8 = classification_report(y_test, y_pred_8)\n",
        "\n",
        "print(f\"Accuracy: {accuracy_8:.2f}\")\n",
        "print(\"Classification Report:\\n\", report_8)"
      ],
      "metadata": {
        "colab": {
          "base_uri": "https://localhost:8080/"
        },
        "id": "uwyDfynLX-qz",
        "outputId": "80b63b84-a2d5-4b23-aa09-7f8d2bd1b4f4"
      },
      "execution_count": 42,
      "outputs": [
        {
          "output_type": "stream",
          "name": "stdout",
          "text": [
            "Accuracy: 0.87\n",
            "Classification Report:\n",
            "               precision    recall  f1-score   support\n",
            "\n",
            "       Anger       0.86      0.84      0.85       159\n",
            "        Fear       0.93      0.83      0.88       112\n",
            "         Joy       0.85      0.92      0.89       165\n",
            "         Sad       0.85      0.86      0.85       166\n",
            "\n",
            "    accuracy                           0.87       602\n",
            "   macro avg       0.87      0.86      0.87       602\n",
            "weighted avg       0.87      0.87      0.87       602\n",
            "\n"
          ]
        }
      ]
    },
    {
      "cell_type": "code",
      "source": [
        "cm = confusion_matrix(y_test, y_pred_8)\n",
        "# Normalise\n",
        "cmn = cm.astype('float') / cm.sum(axis=1)[:, np.newaxis]\n",
        "fig, ax = plt.subplots(figsize=(10,10))\n",
        "sns.heatmap(cmn, annot=True, fmt='.2f', xticklabels=class_labels, yticklabels=class_labels)\n",
        "plt.ylabel('Actual')\n",
        "plt.xlabel('Predicted')\n",
        "plt.show(block=False)"
      ],
      "metadata": {
        "colab": {
          "base_uri": "https://localhost:8080/",
          "height": 850
        },
        "id": "vE9JL9kLcEbS",
        "outputId": "ae0a4c87-d853-43e4-f06c-25946dcfac24"
      },
      "execution_count": 43,
      "outputs": [
        {
          "output_type": "display_data",
          "data": {
            "text/plain": [
              "<Figure size 1000x1000 with 2 Axes>"
            ],
            "image/png": "[encoded data removed]"
          },
          "metadata": {}
        }
      ]
    },
    {
      "cell_type": "code",
      "source": [
        "# Get the confusion matrix\n",
        "cm = confusion_matrix(y_test, y_pred_8)\n",
        "\n",
        "# Define class labels\n",
        "class_labels = ['fear', 'anger', 'sad', 'happy']\n",
        "\n",
        "# Print confusion matrix with labels\n",
        "print(\"Confusion Matrix:\")\n",
        "print(\"\\t\" + \"\\t\".join(class_labels))\n",
        "for i, label in enumerate(class_labels):\n",
        "    print(f\"{label}\\t{cm[i]}\")"
      ],
      "metadata": {
        "colab": {
          "base_uri": "https://localhost:8080/"
        },
        "id": "rchTyY4DRd-m",
        "outputId": "f9fbee62-e1ee-435c-d1b8-0c47f149bfbd"
      },
      "execution_count": 44,
      "outputs": [
        {
          "output_type": "stream",
          "name": "stdout",
          "text": [
            "Confusion Matrix:\n",
            "\tfear\tanger\tsad\thappy\n",
            "fear\t[134   2  12  11]\n",
            "anger\t[ 4 93  5 10]\n",
            "sad\t[  6   2 152   5]\n",
            "happy\t[ 12   3   9 142]\n"
          ]
        }
      ]
    },
    {
      "cell_type": "code",
      "execution_count": 45,
      "metadata": {
        "colab": {
          "base_uri": "https://localhost:8080/",
          "height": 261
        },
        "id": "r2kIx-ZKEtv8",
        "outputId": "51bf24f0-51df-4e61-eaff-3164f79e9836"
      },
      "outputs": [
        {
          "output_type": "stream",
          "name": "stdout",
          "text": [
            "[]\n",
            "Enter a Kannada sentence\n",
            "ಅವನು ಅಳುತ್ತಿದ್ದಾನೆ\n",
            "After Cleaning and Stopwords Removal\n",
            "ಅವನು ಅಳುತ್ತಿದ್ದಾನೆ \n",
            "\n",
            "After Stemming\n",
            "ಅವನು ಅಳು\n",
            "\n",
            "Output of each Algorithms\n",
            "['Sad', 'Sad', 'Sad', 'Sad', 'Anger', 'Anger', 'Sad']\n",
            "{'Joy': 0, 'Sad': 5, 'Anger': 2, 'Fear': 0}\n",
            "The Sentence is classified as Sad\n"
          ]
        },
        {
          "output_type": "execute_result",
          "data": {
            "text/plain": [
              "'Sad'"
            ],
            "application/vnd.google.colaboratory.intrinsic+json": {
              "type": "string"
            }
          },
          "metadata": {},
          "execution_count": 45
        }
      ],
      "source": [
        "#Custom User Input\n",
        "def custon_inp(x):\n",
        "    print(x)\n",
        "    print(\"Enter a Kannada sentence\")\n",
        "    x = input()\n",
        "    x = clean(x)\n",
        "    print(\"After Cleaning and Stopwords Removal\")\n",
        "    print(x,'\\n')\n",
        "    print(\"After Stemming\")\n",
        "    x = stemming(x)\n",
        "    print(x)\n",
        "    vec = tfidf.transform([x])\n",
        "    vec.shape\n",
        "#Testing User Input On All Classifiers\n",
        "    result0=clf0.predict(vec)\n",
        "    result1=clf1.predict(vec)\n",
        "    result2=clf2.predict(vec)\n",
        "    result3=clf3.predict(vec)\n",
        "    result4=clf4.predict(vec)\n",
        "    result5=clf5.predict(vec)\n",
        "    result6=clf6.predict(vec)\n",
        "    result7=clf7.predict(vec)\n",
        "\n",
        "    res=[result0[0],result1[0],result2[0],result3[0],result5[0],result6[0],result7[0]]\n",
        "    print()\n",
        "    print(\"Output of each Algorithms\")\n",
        "    print(res)\n",
        "    dic = {\"Joy\":0,\"Sad\":0,\"Anger\":0,\"Fear\":0}\n",
        "#Result\n",
        "    for i in res:\n",
        "        if i==0:\n",
        "            dic[\"Joy\"]+=1\n",
        "        if i== 1:\n",
        "            dic[\"Sad\"]+=1\n",
        "\n",
        "        if i==\"Joy\":\n",
        "            dic[\"Joy\"]+=1\n",
        "        if i==\"Sad\":\n",
        "            dic[\"Sad\"]+=1\n",
        "        if i==\"Anger\":\n",
        "            dic[\"Anger\"]+=1\n",
        "        if i==\"Fear\":\n",
        "            dic[\"Fear\"]+=1\n",
        "\n",
        "    print(dic)\n",
        "    for key, val in dic.items():\n",
        "        if val == max(dic.values()):\n",
        "            Final_op=key\n",
        "            print(\"The Sentence is classified as\",Final_op)\n",
        "    return Final_op\n",
        "custon_inp(x)"
      ]
    },
    {
      "cell_type": "code",
      "source": [],
      "metadata": {
        "id": "uXD2YAkNjexu"
      },
      "execution_count": null,
      "outputs": []
    },
    {
      "cell_type": "code",
      "execution_count": 46,
      "metadata": {
        "id": "xIPFfBFhF8aV",
        "colab": {
          "base_uri": "https://localhost:8080/",
          "height": 261
        },
        "outputId": "6c792725-a9ce-41d4-ff46-39ade2887f06"
      },
      "outputs": [
        {
          "output_type": "stream",
          "name": "stdout",
          "text": [
            "[]\n",
            "Enter a Kannada sentence\n",
            "ಅವನು ಅಳುತ್ತಿದ್ದಾನೆ\n",
            "After Cleaning and Stopwords Removal\n",
            "ಅವನು ಅಳುತ್ತಿದ್ದಾನೆ \n",
            "\n",
            "After Stemming\n",
            "ಅವನು ಅಳು\n",
            "\n",
            "Output of each Algorithms\n",
            "['Sad', 'Sad', 'Sad', 'Sad', 'Sad', 'Sad', 'Sad']\n",
            "{'Joy': 0, 'Sad': 7, 'Anger': 0, 'Fear': 0}\n",
            "The Sentence is classified as Sad\n"
          ]
        },
        {
          "output_type": "execute_result",
          "data": {
            "text/plain": [
              "'Sad'"
            ],
            "application/vnd.google.colaboratory.intrinsic+json": {
              "type": "string"
            }
          },
          "metadata": {},
          "execution_count": 46
        }
      ],
      "source": [
        "#Custom User Input\n",
        "def custon_inp(x):\n",
        "    print(x)\n",
        "    print(\"Enter a Kannada sentence\")\n",
        "    x = input()\n",
        "    x = clean(x)\n",
        "    print(\"After Cleaning and Stopwords Removal\")\n",
        "    print(x,'\\n')\n",
        "    print(\"After Stemming\")\n",
        "    x = stemming(x)\n",
        "    print(x)\n",
        "    vec = tfidf.transform([x])\n",
        "    vec.shape\n",
        "#Testing User Input On All Classifiers\n",
        "    result0=ensemble_classifier_1.predict(vec)\n",
        "    result1=ensemble_classifier_2.predict(vec)\n",
        "    result2=ensemble_classifier_3.predict(vec)\n",
        "    result3=ensemble_classifier_4.predict(vec)\n",
        "    result4=ensemble_classifier_5.predict(vec)\n",
        "    result5=ensemble_classifier_6.predict(vec)\n",
        "    result6=ensemble_classifier_7.predict(vec)\n",
        "    result7=ensemble_classifier_8.predict(vec)\n",
        "\n",
        "    res=[result0[0],result1[0],result2[0],result3[0],result5[0],result6[0],result7[0]]\n",
        "    print()\n",
        "    print(\"Output of each Algorithms\")\n",
        "    print(res)\n",
        "    dic = {\"Joy\":0,\"Sad\":0,\"Anger\":0,\"Fear\":0}\n",
        "#Result\n",
        "    for i in res:\n",
        "        if i==0:\n",
        "            dic[\"Joy\"]+=1\n",
        "        if i== 1:\n",
        "            dic[\"Sad\"]+=1\n",
        "\n",
        "        if i==\"Joy\":\n",
        "            dic[\"Joy\"]+=1\n",
        "        if i==\"Sad\":\n",
        "            dic[\"Sad\"]+=1\n",
        "        if i==\"Anger\":\n",
        "            dic[\"Anger\"]+=1\n",
        "        if i==\"Fear\":\n",
        "            dic[\"Fear\"]+=1\n",
        "\n",
        "    print(dic)\n",
        "    for key, val in dic.items():\n",
        "        if val == max(dic.values()):\n",
        "            Final_op=key\n",
        "            print(\"The Sentence is classified as\",Final_op)\n",
        "    return Final_op\n",
        "custon_inp(x)"
      ]
    },
    {
      "cell_type": "code",
      "source": [],
      "metadata": {
        "id": "-iXzbQ1xdb_M"
      },
      "execution_count": null,
      "outputs": []
    }
  ],
  "metadata": {
    "colab": {
      "provenance": []
    },
    "kernelspec": {
      "display_name": "Python 3",
      "name": "python3"
    },
    "language_info": {
      "name": "python"
    }
  },
  "nbformat": 4,
  "nbformat_minor": 0
}